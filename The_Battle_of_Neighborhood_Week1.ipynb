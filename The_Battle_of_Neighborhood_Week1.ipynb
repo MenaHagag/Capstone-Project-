{
  "nbformat": 4,
  "nbformat_minor": 0,
  "metadata": {
    "colab": {
      "name": "The_Battle_of_Neighborhood_Week1.ipynb",
      "provenance": [],
      "collapsed_sections": [],
      "authorship_tag": "ABX9TyMJ7qdUxBtAAvKJV5AwxAGs",
      "include_colab_link": true
    },
    "kernelspec": {
      "name": "python3",
      "display_name": "Python 3"
    }
  },
  "cells": [
    {
      "cell_type": "markdown",
      "metadata": {
        "id": "view-in-github",
        "colab_type": "text"
      },
      "source": [
        "<a href=\"https://colab.research.google.com/github/MenaHagag/Capstone-Project-/blob/master/The_Battle_of_Neighborhood_Week1.ipynb\" target=\"_parent\"><img src=\"https://colab.research.google.com/assets/colab-badge.svg\" alt=\"Open In Colab\"/></a>"
      ]
    },
    {
      "cell_type": "markdown",
      "metadata": {
        "id": "wEoN9g8SlDep",
        "colab_type": "text"
      },
      "source": [
        "# Capstone Project-The Battle of the Neighborhood(Week1)"
      ]
    },
    {
      "cell_type": "markdown",
      "metadata": {
        "id": "iYZu4njPlqDF",
        "colab_type": "text"
      },
      "source": [
        "#Introduction: Business Problem\n",
        "\n",
        " \n",
        "This project will focus on examining the city of Toronto to find an optimal location **to open a Middle Eastern restaurant in the downtown area.** As known, there are many restaurants at Toronto’s downtown with different venues. Therefore, the downtown needs to be assessed carefully to identify the best location for the new restaurant. The best location should meet the following criteria: have no or low number of restaurants especially Middle Eastern restaurants.\n",
        "\n",
        "Data science and machine learning will be usedto examine Toronto's downtown and search for the best location to be chosen by **stackholders**.\n",
        "\n"
      ]
    },
    {
      "cell_type": "markdown",
      "metadata": {
        "id": "PAA06Z8LFPxG",
        "colab_type": "text"
      },
      "source": [
        "#Data\n",
        "\n",
        "There are three main factors that will influence the stakeholders decision in choosing the optimal location to open a Middle Eastern restaurant:\n",
        "* The number of restuarant in the neighborhood (any type of restaurant)\n",
        "* The number of and distance to Middle Eastern reastuarants in the neighborhoods\n",
        "* The distance of the neighborhood from downtown\n",
        "\n",
        "We decided to use regularly spaced grid of locations, centered around the downtown, to define our neighborhoods.\n",
        "\n",
        "There are two main sources of data in this project:\n",
        "* *Wikipedia*  page that contains the list of **postal codes in Canada.**  \n",
        "* Number of restaurants and their type and location in every neighborhood will be obtained using **Foursquare API**\n"
      ]
    },
    {
      "cell_type": "code",
      "metadata": {
        "id": "O8GeqxrT8cAY",
        "colab_type": "code",
        "colab": {}
      },
      "source": [
        ""
      ],
      "execution_count": 0,
      "outputs": []
    }
  ]
}