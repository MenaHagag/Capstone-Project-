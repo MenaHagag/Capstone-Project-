{
  "nbformat": 4,
  "nbformat_minor": 0,
  "metadata": {
    "colab": {
      "name": "Final-City_of_Toronto_Week1.ipynb",
      "provenance": [],
      "authorship_tag": "ABX9TyOXKpqXp17iC8rl8Wi9t8Ia",
      "include_colab_link": true
    },
    "kernelspec": {
      "name": "python3",
      "display_name": "Python 3"
    }
  },
  "cells": [
    {
      "cell_type": "markdown",
      "metadata": {
        "id": "view-in-github",
        "colab_type": "text"
      },
      "source": [
        "<a href=\"https://colab.research.google.com/github/MenaHagag/Capstone-Project-/blob/master/Final_City_of_Toronto_Week1.ipynb\" target=\"_parent\"><img src=\"https://colab.research.google.com/assets/colab-badge.svg\" alt=\"Open In Colab\"/></a>"
      ]
    },
    {
      "cell_type": "markdown",
      "metadata": {
        "id": "wEoN9g8SlDep",
        "colab_type": "text"
      },
      "source": [
        "# Capstone Project-The Battle of the Neighborhood(Week1)"
      ]
    },
    {
      "cell_type": "markdown",
      "metadata": {
        "id": "iYZu4njPlqDF",
        "colab_type": "text"
      },
      "source": [
        "#Introduction: Business Problem\n",
        "\n",
        "In this project we will try to find an optimal location for a restaurant. Specifically, this report will be targeted to stakeholders interested in opening an **Middel Eastern restaurant** in **Toronto, Canada.**\n",
        "\n",
        "We are interested examing the City of Toronto. We will target Toronto downtown. Since there are lots of restaurants in Toronto's downtown, we will try to find the location with **the least number of middle eastern restuarants and closer to downtown.**\n",
        "\n",
        "We will use data science to examine Toronto's downtown and search for the best location to be chosen by stackholders.\n",
        "\n"
      ]
    },
    {
      "cell_type": "markdown",
      "metadata": {
        "id": "PAA06Z8LFPxG",
        "colab_type": "text"
      },
      "source": [
        "#Data\n",
        "\n",
        "There are three main factors that will influence our decision:\n",
        "* The number of restuarant in the neighborhood (any type of restaurant)\n",
        "* The number of and distance to Middle Eastern reastuarants in the neighborhoods\n",
        "* The distance of the neighborhood from downtown\n",
        "\n",
        "We decided to use regularly spaced grid of locations, centered around the downtown, to define our neighborhoods.\n",
        "\n",
        "Following data sources will be needed to extract/generate the required information:\n",
        "* *Wikipedia*  page that contains the list of **postal codes in Canada.**  \n",
        "* Number of restaurants and their type and location in every neighborhood will be obtained using **Foursquare API**\n"
      ]
    }
  ]
}